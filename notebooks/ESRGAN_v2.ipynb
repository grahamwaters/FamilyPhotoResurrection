{
  "cells": [
    {
      "cell_type": "markdown",
      "metadata": {
        "id": "LMgSNi5R7EG9"
      },
      "source": [
        "# ESRGAN: Image super-resolution and enhancement\n",
        "\n",
        "## [![Open In Colab](https://colab.research.google.com/assets/colab-badge.svg)](https://colab.research.google.com/github/ml4a/ml4a-guides/blob/ml4a.net/examples/models/ESRGAN.ipynb)\n",
        "\n",
        "Upscales an image's pixel resolution by 4x. See the [original code](https://github.com/xinntao/ESRGAN) and [paper](https://arxiv.org/abs/1809.00219)."
      ]
    },
    {
      "cell_type": "markdown",
      "metadata": {
        "id": "Qf4vC7ja7EG-"
      },
      "source": [
        "## Set up ml4a and enable GPU\n",
        "\n",
        "If you don't already have ml4a installed, or you are opening this in Colab, first enable GPU (`Runtime` > `Change runtime type`), then run the following cell to install ml4a and its dependencies."
      ]
    },
    {
      "cell_type": "code",
      "execution_count": 4,
      "metadata": {},
      "outputs": [
        {
          "name": "stdout",
          "output_type": "stream",
          "text": [
            "Requirement already satisfied: tensorflow in /Library/Frameworks/Python.framework/Versions/3.9/lib/python3.9/site-packages (2.8.0)\n",
            "Requirement already satisfied: h5py>=2.9.0 in /Library/Frameworks/Python.framework/Versions/3.9/lib/python3.9/site-packages (from tensorflow) (3.6.0)\n",
            "Requirement already satisfied: wrapt>=1.11.0 in /Library/Frameworks/Python.framework/Versions/3.9/lib/python3.9/site-packages (from tensorflow) (1.12.1)\n",
            "Requirement already satisfied: astunparse>=1.6.0 in /Library/Frameworks/Python.framework/Versions/3.9/lib/python3.9/site-packages (from tensorflow) (1.6.3)\n",
            "Requirement already satisfied: tf-estimator-nightly==2.8.0.dev2021122109 in /Library/Frameworks/Python.framework/Versions/3.9/lib/python3.9/site-packages (from tensorflow) (2.8.0.dev2021122109)\n",
            "Requirement already satisfied: numpy>=1.20 in /Library/Frameworks/Python.framework/Versions/3.9/lib/python3.9/site-packages (from tensorflow) (1.20.3)\n",
            "Requirement already satisfied: six>=1.12.0 in /Library/Frameworks/Python.framework/Versions/3.9/lib/python3.9/site-packages (from tensorflow) (1.16.0)\n",
            "Requirement already satisfied: typing-extensions>=3.6.6 in /Library/Frameworks/Python.framework/Versions/3.9/lib/python3.9/site-packages (from tensorflow) (4.1.1)\n",
            "Requirement already satisfied: keras<2.9,>=2.8.0rc0 in /Library/Frameworks/Python.framework/Versions/3.9/lib/python3.9/site-packages (from tensorflow) (2.8.0)\n",
            "Requirement already satisfied: tensorflow-io-gcs-filesystem>=0.23.1 in /Library/Frameworks/Python.framework/Versions/3.9/lib/python3.9/site-packages (from tensorflow) (0.24.0)\n",
            "Requirement already satisfied: gast>=0.2.1 in /Library/Frameworks/Python.framework/Versions/3.9/lib/python3.9/site-packages (from tensorflow) (0.5.3)\n",
            "Requirement already satisfied: google-pasta>=0.1.1 in /Library/Frameworks/Python.framework/Versions/3.9/lib/python3.9/site-packages (from tensorflow) (0.2.0)\n",
            "Requirement already satisfied: grpcio<2.0,>=1.24.3 in /Library/Frameworks/Python.framework/Versions/3.9/lib/python3.9/site-packages (from tensorflow) (1.44.0)\n",
            "Requirement already satisfied: libclang>=9.0.1 in /Library/Frameworks/Python.framework/Versions/3.9/lib/python3.9/site-packages (from tensorflow) (13.0.0)\n",
            "Requirement already satisfied: tensorboard<2.9,>=2.8 in /Library/Frameworks/Python.framework/Versions/3.9/lib/python3.9/site-packages (from tensorflow) (2.8.0)\n",
            "Requirement already satisfied: flatbuffers>=1.12 in /Library/Frameworks/Python.framework/Versions/3.9/lib/python3.9/site-packages (from tensorflow) (2.0)\n",
            "Requirement already satisfied: termcolor>=1.1.0 in /Library/Frameworks/Python.framework/Versions/3.9/lib/python3.9/site-packages (from tensorflow) (1.1.0)\n",
            "Requirement already satisfied: opt-einsum>=2.3.2 in /Library/Frameworks/Python.framework/Versions/3.9/lib/python3.9/site-packages (from tensorflow) (3.3.0)\n",
            "Requirement already satisfied: setuptools in /Library/Frameworks/Python.framework/Versions/3.9/lib/python3.9/site-packages (from tensorflow) (60.9.3)\n",
            "Requirement already satisfied: keras-preprocessing>=1.1.1 in /Library/Frameworks/Python.framework/Versions/3.9/lib/python3.9/site-packages (from tensorflow) (1.1.2)\n",
            "Requirement already satisfied: absl-py>=0.4.0 in /Library/Frameworks/Python.framework/Versions/3.9/lib/python3.9/site-packages (from tensorflow) (1.0.0)\n",
            "Requirement already satisfied: protobuf>=3.9.2 in /Library/Frameworks/Python.framework/Versions/3.9/lib/python3.9/site-packages (from tensorflow) (3.19.4)\n",
            "Requirement already satisfied: wheel<1.0,>=0.23.0 in /Library/Frameworks/Python.framework/Versions/3.9/lib/python3.9/site-packages (from astunparse>=1.6.0->tensorflow) (0.37.0)\n",
            "Requirement already satisfied: werkzeug>=0.11.15 in /Library/Frameworks/Python.framework/Versions/3.9/lib/python3.9/site-packages (from tensorboard<2.9,>=2.8->tensorflow) (2.0.1)\n",
            "Requirement already satisfied: markdown>=2.6.8 in /Library/Frameworks/Python.framework/Versions/3.9/lib/python3.9/site-packages (from tensorboard<2.9,>=2.8->tensorflow) (3.3.6)\n",
            "Requirement already satisfied: requests<3,>=2.21.0 in /Library/Frameworks/Python.framework/Versions/3.9/lib/python3.9/site-packages (from tensorboard<2.9,>=2.8->tensorflow) (2.27.1)\n",
            "Requirement already satisfied: tensorboard-plugin-wit>=1.6.0 in /Library/Frameworks/Python.framework/Versions/3.9/lib/python3.9/site-packages (from tensorboard<2.9,>=2.8->tensorflow) (1.8.0)\n",
            "Requirement already satisfied: google-auth-oauthlib<0.5,>=0.4.1 in /Library/Frameworks/Python.framework/Versions/3.9/lib/python3.9/site-packages (from tensorboard<2.9,>=2.8->tensorflow) (0.4.6)\n",
            "Requirement already satisfied: tensorboard-data-server<0.7.0,>=0.6.0 in /Library/Frameworks/Python.framework/Versions/3.9/lib/python3.9/site-packages (from tensorboard<2.9,>=2.8->tensorflow) (0.6.1)\n",
            "Requirement already satisfied: google-auth<3,>=1.6.3 in /Library/Frameworks/Python.framework/Versions/3.9/lib/python3.9/site-packages (from tensorboard<2.9,>=2.8->tensorflow) (2.6.0)\n",
            "Requirement already satisfied: pyasn1-modules>=0.2.1 in /Library/Frameworks/Python.framework/Versions/3.9/lib/python3.9/site-packages (from google-auth<3,>=1.6.3->tensorboard<2.9,>=2.8->tensorflow) (0.2.8)\n",
            "Requirement already satisfied: cachetools<6.0,>=2.0.0 in /Library/Frameworks/Python.framework/Versions/3.9/lib/python3.9/site-packages (from google-auth<3,>=1.6.3->tensorboard<2.9,>=2.8->tensorflow) (4.2.4)\n",
            "Requirement already satisfied: rsa<5,>=3.1.4 in /Library/Frameworks/Python.framework/Versions/3.9/lib/python3.9/site-packages (from google-auth<3,>=1.6.3->tensorboard<2.9,>=2.8->tensorflow) (4.7.2)\n",
            "Requirement already satisfied: requests-oauthlib>=0.7.0 in /Library/Frameworks/Python.framework/Versions/3.9/lib/python3.9/site-packages (from google-auth-oauthlib<0.5,>=0.4.1->tensorboard<2.9,>=2.8->tensorflow) (1.3.0)\n",
            "Requirement already satisfied: importlib-metadata>=4.4 in /Library/Frameworks/Python.framework/Versions/3.9/lib/python3.9/site-packages (from markdown>=2.6.8->tensorboard<2.9,>=2.8->tensorflow) (4.11.2)\n",
            "Requirement already satisfied: idna<4,>=2.5 in /Library/Frameworks/Python.framework/Versions/3.9/lib/python3.9/site-packages (from requests<3,>=2.21.0->tensorboard<2.9,>=2.8->tensorflow) (3.3)\n",
            "Requirement already satisfied: charset-normalizer~=2.0.0 in /Library/Frameworks/Python.framework/Versions/3.9/lib/python3.9/site-packages (from requests<3,>=2.21.0->tensorboard<2.9,>=2.8->tensorflow) (2.0.12)\n",
            "Requirement already satisfied: urllib3<1.27,>=1.21.1 in /Library/Frameworks/Python.framework/Versions/3.9/lib/python3.9/site-packages (from requests<3,>=2.21.0->tensorboard<2.9,>=2.8->tensorflow) (1.26.7)\n",
            "Requirement already satisfied: certifi>=2017.4.17 in /Library/Frameworks/Python.framework/Versions/3.9/lib/python3.9/site-packages (from requests<3,>=2.21.0->tensorboard<2.9,>=2.8->tensorflow) (2021.10.8)\n",
            "Requirement already satisfied: zipp>=0.5 in /Library/Frameworks/Python.framework/Versions/3.9/lib/python3.9/site-packages (from importlib-metadata>=4.4->markdown>=2.6.8->tensorboard<2.9,>=2.8->tensorflow) (3.6.0)\n",
            "Requirement already satisfied: pyasn1<0.5.0,>=0.4.6 in /Library/Frameworks/Python.framework/Versions/3.9/lib/python3.9/site-packages (from pyasn1-modules>=0.2.1->google-auth<3,>=1.6.3->tensorboard<2.9,>=2.8->tensorflow) (0.4.8)\n",
            "Requirement already satisfied: oauthlib>=3.0.0 in /Library/Frameworks/Python.framework/Versions/3.9/lib/python3.9/site-packages (from requests-oauthlib>=0.7.0->google-auth-oauthlib<0.5,>=0.4.1->tensorboard<2.9,>=2.8->tensorflow) (3.2.0)\n",
            "\u001b[33mWARNING: You are using pip version 22.0.4; however, version 22.3.1 is available.\n",
            "You should consider upgrading via the '/Library/Frameworks/Python.framework/Versions/3.9/bin/python3.9 -m pip install --upgrade pip' command.\u001b[0m\u001b[33m\n",
            "\u001b[0m"
          ]
        }
      ],
      "source": [
        "!pip3 install tensorflow"
      ]
    },
    {
      "cell_type": "code",
      "execution_count": 6,
      "metadata": {
        "id": "bPQWi-jE7EG_"
      },
      "outputs": [
        {
          "name": "stdout",
          "output_type": "stream",
          "text": [
            "\u001b[31mERROR: Cannot install ml4a==0.1.0, ml4a==0.1.2 and ml4a==0.1.3 because these package versions have conflicting dependencies.\u001b[0m\u001b[31m\n",
            "\u001b[0m\u001b[31mERROR: ResolutionImpossible: for help visit https://pip.pypa.io/en/latest/topics/dependency-resolution/#dealing-with-dependency-conflicts\u001b[0m\u001b[31m\n",
            "\u001b[0m\u001b[33mWARNING: You are using pip version 22.0.4; however, version 22.3.1 is available.\n",
            "You should consider upgrading via the '/Library/Frameworks/Python.framework/Versions/3.9/bin/python3.9 -m pip install --upgrade pip' command.\u001b[0m\u001b[33m\n",
            "\u001b[0m"
          ]
        }
      ],
      "source": [
        "!pip3 install --quiet ml4a"
      ]
    },
    {
      "cell_type": "markdown",
      "metadata": {
        "id": "YaNkGowO7EHA"
      },
      "source": [
        "## Upsample an image\n",
        "\n",
        "We start with a small image and upsample it 4x using ESRGAN."
      ]
    },
    {
      "cell_type": "code",
      "execution_count": 2,
      "metadata": {
        "id": "U8a4yyog7EHA",
        "outputId": "435fd4b4-d399-4a82-ed69-9c6e7a5a7097"
      },
      "outputs": [
        {
          "ename": "ModuleNotFoundError",
          "evalue": "No module named 'ml4a'",
          "output_type": "error",
          "traceback": [
            "\u001b[0;31m---------------------------------------------------------------------------\u001b[0m",
            "\u001b[0;31mModuleNotFoundError\u001b[0m                       Traceback (most recent call last)",
            "\u001b[0;32m/var/folders/34/d1tlq3k91hb0lj6x90xpzb4r0000gn/T/ipykernel_2811/869481105.py\u001b[0m in \u001b[0;36m<cell line: 1>\u001b[0;34m()\u001b[0m\n\u001b[0;32m----> 1\u001b[0;31m \u001b[0;32mfrom\u001b[0m \u001b[0mml4a\u001b[0m \u001b[0;32mimport\u001b[0m \u001b[0mimage\u001b[0m\u001b[0;34m\u001b[0m\u001b[0;34m\u001b[0m\u001b[0m\n\u001b[0m\u001b[1;32m      2\u001b[0m \u001b[0;32mfrom\u001b[0m \u001b[0mml4a\u001b[0m\u001b[0;34m.\u001b[0m\u001b[0mmodels\u001b[0m \u001b[0;32mimport\u001b[0m \u001b[0mesrgan\u001b[0m\u001b[0;34m\u001b[0m\u001b[0;34m\u001b[0m\u001b[0m\n\u001b[1;32m      3\u001b[0m \u001b[0;34m\u001b[0m\u001b[0m\n\u001b[1;32m      4\u001b[0m \u001b[0;31m# load image from the web\u001b[0m\u001b[0;34m\u001b[0m\u001b[0;34m\u001b[0m\u001b[0;34m\u001b[0m\u001b[0m\n\u001b[1;32m      5\u001b[0m \u001b[0mimg1\u001b[0m \u001b[0;34m=\u001b[0m \u001b[0mimage\u001b[0m\u001b[0;34m.\u001b[0m\u001b[0mload_image\u001b[0m\u001b[0;34m(\u001b[0m\u001b[0;34m'https://raw.githubusercontent.com/xinntao/ESRGAN/master/LR/baboon.png'\u001b[0m\u001b[0;34m)\u001b[0m\u001b[0;34m\u001b[0m\u001b[0;34m\u001b[0m\u001b[0m\n",
            "\u001b[0;31mModuleNotFoundError\u001b[0m: No module named 'ml4a'"
          ]
        }
      ],
      "source": [
        "# from ml4a import image\n",
        "# from ml4a.models import esrgan\n",
        "\n",
        "# instead of using ml4a, I will use the ESRGAN model directly via a downloaded copy, and CLIP to do the image comparison and selection. I will also use the PIL library to do the image manipulation. I will also use the os library to do the file manipulation.\n",
        "\n",
        "import os\n",
        "import sys\n",
        "import subprocess\n",
        "import zipfile\n",
        "import requests\n",
        "import glob\n",
        "import shutil\n",
        "import tensorflow as tf\n",
        "import numpy as np\n",
        "import PIL\n",
        "from PIL import Image\n",
        "import matplotlib.pyplot as plt\n",
        "import matplotlib.image as mpimg\n",
        "import clip\n",
        "import torch\n",
        "\n",
        "\n",
        "# load the model into memory\n",
        "print(\"Loading ESRGAN model\")\n",
        "device = torch.device(\"cuda\" if torch.cuda.is_available() else \"cpu\")\n",
        "model = torch.hub.load('xinntao/ESRGAN', 'esrgan', pretrained=True, device=device)\n",
        "model.eval()\n",
        "\n",
        "# load the CLIP model into memory\n",
        "print(\"Loading CLIP model\")\n",
        "model, preprocess = clip.load(\"ViT-B/32\", device)\n",
        "\n",
        "# download the ESRGAN model\n",
        "print(\"Downloading ESRGAN model\")\n",
        "r = requests.get(\"https://data.vision.ee.ethz.ch/cvl/DIV2K/models/RRDB_ESRGAN_x4.pth\", allow_redirects=True)\n",
        "open(\"RRDB_ESRGAN_x4.pth\", \"wb\").write(r.content)\n",
        "\n",
        "# download the ESRGAN code\n",
        "print(\"Downloading ESRGAN code\")\n",
        "r = requests.get(\"https://data.vision.ee.ethz.ch/cvl/DIV2K/DIV2K_train_HR.zip\", allow_redirects=True)\n",
        "\n",
        "# unzip the ESRGAN code\n",
        "print(\"Unzipping ESRGAN code\")\n",
        "with zipfile.ZipFile(\"DIV2K_train_HR.zip\", \"r\") as zip_ref:\n",
        "    zip_ref.extractall()\n",
        "\n",
        "# move the ESRGAN code to the correct folder\n",
        "print(\"Moving ESRGAN code\")\n",
        "shutil.move(\"DIV2K_train_HR\", \"esrgan\")\n",
        "\n",
        "\n",
        "input_images_directory = './input_images'\n",
        "output_images_directory = './output_images'\n",
        "\n",
        "# create the input and output directories if they don't exist\n",
        "if not os.path.exists(input_images_directory):\n",
        "    os.makedirs(input_images_directory)\n",
        "\n",
        "if not os.path.exists(output_images_directory):\n",
        "    os.makedirs(output_images_directory)\n",
        "\n",
        "# take the input images and convert them to the correct format for the ESRGAN model\n",
        "input_images = glob.glob(input_images_directory + '/*')\n",
        "\n",
        "from tqdm import tqdm\n",
        "from alive_progress import alive_bar\n",
        "\n",
        "number_of_images = len(input_images)\n",
        "\n",
        "with alive_bar(number_of_images) as bar:\n",
        "    for input_image in input_images:\n",
        "        # load the image\n",
        "        image = PIL.Image.open(input_image)\n",
        "\n",
        "        # resize the image to 256x256\n",
        "        image = image.resize((256, 256))\n",
        "\n",
        "        # save the image\n",
        "        image.save(input_image)\n",
        "\n",
        "        bar()\n",
        "\n",
        "\n",
        "# Now that the images are in the correct format, we can run them through the ESRGAN model\n",
        "input_images = glob.glob(input_images_directory + '/*')\n",
        "\n",
        "# create a list of the output images\n",
        "output_images = []\n",
        "\n",
        "# create a list of the output image names\n",
        "output_image_names = []\n",
        "\n",
        "# begin the loop\n",
        "with alive_bar(number_of_images) as bar:\n",
        "    # take each image and magnify it using the ESRGAN model 4x and save the output\n",
        "    for input_image in input_images:\n",
        "        # load the image\n",
        "        image = PIL.Image.open(input_image)\n",
        "\n",
        "        # convert the image to a numpy array\n",
        "        image = np.array(image)\n",
        "\n",
        "        # convert the image to a tensor\n",
        "        image = torch.from_numpy(image).to(device).float()\n",
        "\n",
        "        # convert the image to the correct format for the ESRGAN model\n",
        "        image = image.permute(2, 0, 1).unsqueeze(0)\n",
        "\n",
        "        # run the image through the ESRGAN model\n",
        "        with torch.no_grad():\n",
        "            output = model(image)\n",
        "\n",
        "        # convert the output to a numpy array\n",
        "        output = output.squeeze(0).permute(1, 2, 0).cpu().numpy()\n",
        "\n",
        "        # convert the output to an image\n",
        "        output = PIL.Image.fromarray(np.uint8(output.clip(0, 1) * 255))\n",
        "\n",
        "        # save the output image\n",
        "        output_image_name = os.path.basename(input_image)\n",
        "        output_image_name = os.path.splitext(output_image_name)[0]\n",
        "        output_image_name = output_image_name + '_esrgan.png'\n",
        "        output_image_path = os.path.join(output_images_directory, output_image_name)\n",
        "        output.save(output_image_path)\n",
        "\n",
        "        # add the output image to the list of output images\n",
        "        output_images.append(output_image_path)\n",
        "\n",
        "        # add the output image name to the list of output image names\n",
        "        output_image_names.append(output_image_name)\n",
        "\n",
        "        bar()\n",
        "\n",
        "\n",
        "\n",
        "\n",
        "\n",
        "\n",
        "# # load image from the web\n",
        "# img1 = image.load_image('https://raw.githubusercontent.com/xinntao/ESRGAN/master/LR/baboon.png')\n",
        "\n",
        "# # or you can load an image directly from disk\n",
        "# #img1 = image.load_image('my_file.jpg')\n",
        "\n",
        "# # run ESRGAN\n",
        "# img2 = esrgan.run(img1)\n",
        "\n",
        "# image.display(img1, title=\"original image\")\n",
        "# image.display(img2, title=\"upsampled 4x\")"
      ]
    }
  ],
  "metadata": {
    "colab": {
      "provenance": []
    },
    "kernelspec": {
      "display_name": "Python 3.10.8 ('tf')",
      "language": "python",
      "name": "python3"
    },
    "language_info": {
      "codemirror_mode": {
        "name": "ipython",
        "version": 3
      },
      "file_extension": ".py",
      "mimetype": "text/x-python",
      "name": "python",
      "nbconvert_exporter": "python",
      "pygments_lexer": "ipython3",
      "version": "3.10.8"
    },
    "vscode": {
      "interpreter": {
        "hash": "f0e771daad86bec50bdb187e83274c02b61c9532347b8e6a605c88f0f4e74834"
      }
    }
  },
  "nbformat": 4,
  "nbformat_minor": 0
}
