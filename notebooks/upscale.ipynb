{
 "cells": [
  {
   "cell_type": "code",
   "execution_count": 1,
   "metadata": {},
   "outputs": [
    {
     "name": "stdout",
     "output_type": "stream",
     "text": [
      "Cloning into 'ESRGAN'...\n",
      "remote: Enumerating objects: 225, done.\u001b[K\n",
      "remote: Total 225 (delta 0), reused 0 (delta 0), pack-reused 225\u001b[K\n",
      "Receiving objects: 100% (225/225), 24.86 MiB | 27.28 MiB/s, done.\n",
      "Resolving deltas: 100% (86/86), done.\n"
     ]
    }
   ],
   "source": [
    "!git clone https://github.com/xinntao/ESRGAN.git"
   ]
  },
  {
   "cell_type": "markdown",
   "metadata": {},
   "source": [
    "A generator and a descriminator fight with eachother to generate the best possible image. "
   ]
  },
  {
   "cell_type": "code",
   "execution_count": 3,
   "metadata": {},
   "outputs": [
    {
     "name": "stdout",
     "output_type": "stream",
     "text": [
      "zsh:1: command not found: gdown\n",
      "Collecting pytorch\n",
      "  Downloading pytorch-1.0.2.tar.gz (689 bytes)\n",
      "  Preparing metadata (setup.py) ... \u001b[?25ldone\n",
      "\u001b[?25h\u001b[31mERROR: Could not find a version that satisfies the requirement cuda (from versions: none)\u001b[0m\u001b[31m\n",
      "\u001b[0m\u001b[31mERROR: No matching distribution found for cuda\u001b[0m\u001b[31m\n",
      "\u001b[0m"
     ]
    }
   ],
   "source": [
    "# Get the model from https://drive.google.com/drive/u/0/folders/17VYV_SoZZesU6mbxz2dMAIccSSlqLecY\n",
    "# download the file from the above link.\n",
    "!wget 'https://drive.google.com/drive/u/0/folders/17VYV_SoZZesU6mbxz2dMAIccSSlqLecY'\n",
    "# unzip the file\n",
    "!unzip '17\n",
    "!gdown --id 1ZjYXwX9j7jL6JY1xvRwWYX5Q8hjJ9Y9m -O ESRGAN/models/RRDB_ESRGAN_x4.pth # 4x\n",
    "# install dependencies\n",
    "!pip3 install pytorch cuda opencv-python glob2"
   ]
  },
  {
   "cell_type": "code",
   "execution_count": null,
   "metadata": {},
   "outputs": [],
   "source": [
    "!"
   ]
  }
 ],
 "metadata": {
  "kernelspec": {
   "display_name": "Python 3.10.8 ('tf')",
   "language": "python",
   "name": "python3"
  },
  "language_info": {
   "codemirror_mode": {
    "name": "ipython",
    "version": 3
   },
   "file_extension": ".py",
   "mimetype": "text/x-python",
   "name": "python",
   "nbconvert_exporter": "python",
   "pygments_lexer": "ipython3",
   "version": "3.10.8"
  },
  "orig_nbformat": 4,
  "vscode": {
   "interpreter": {
    "hash": "f0e771daad86bec50bdb187e83274c02b61c9532347b8e6a605c88f0f4e74834"
   }
  }
 },
 "nbformat": 4,
 "nbformat_minor": 2
}
